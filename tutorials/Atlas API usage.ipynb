{
 "cells": [
  {
   "cell_type": "markdown",
   "metadata": {},
   "source": [
    "# Introduction to the `BrainGlobeAtlas` class"
   ]
  },
  {
   "cell_type": "markdown",
   "metadata": {},
   "source": [
    "## 0. Creating a `BrainGlobeAtlas` object and list availabe options"
   ]
  },
  {
   "cell_type": "markdown",
   "metadata": {},
   "source": [
    "To instantiate a `BrainGlobeAtlas` object, we need to instantiate it with the atlas name. The first time we use it, a version of this atlas files will be downloaded from the [remote GIN repository](http://gin.g-node.org/brainglobe/atlases) and stored on your local machine (by default, in .../Users/username/.brainglobe):"
   ]
  },
  {
   "cell_type": "code",
   "execution_count": null,
   "metadata": {},
   "outputs": [],
   "source": [
    "from bg_atlasapi import BrainGlobeAtlas\n",
    "\n",
    "bg_atlas = BrainGlobeAtlas(\"example_mouse_100um\", check_latest=False)"
   ]
  },
  {
   "cell_type": "markdown",
   "metadata": {},
   "source": [
    "To know what atlases are available through BrainGlobe, we can use the `show_atlases` function (we need to be online):"
   ]
  },
  {
   "cell_type": "code",
   "execution_count": null,
   "metadata": {},
   "outputs": [],
   "source": [
    "from bg_atlasapi import show_atlases\n",
    "show_atlases()"
   ]
  },
  {
   "cell_type": "markdown",
   "metadata": {},
   "source": [
    "## 1. Using a `BrainGlobe` atlas"
   ]
  },
  {
   "cell_type": "markdown",
   "metadata": {},
   "source": [
    "A BrainGlobe atlas is a convenient API for interacting with an anatomical atlas. BrainGlobe atlases contain:\n",
    " * Metadata\n",
    " * Reference anatomical stack\n",
    " * Region annotation stack\n",
    " * Hemisphere annotation stack\n",
    " * Description of the region hierarchy\n",
    " * Meshes for the regions"
   ]
  },
  {
   "cell_type": "markdown",
   "metadata": {},
   "source": [
    "### 1.0 Metadata"
   ]
  },
  {
   "cell_type": "markdown",
   "metadata": {},
   "source": [
    "All atlases have a standard set of medatata describing their source, species, resolution, etc:"
   ]
  },
  {
   "cell_type": "code",
   "execution_count": null,
   "metadata": {},
   "outputs": [],
   "source": [
    "bg_atlas.metadata"
   ]
  },
  {
   "cell_type": "markdown",
   "metadata": {},
   "source": [
    "### 1.1 Anatomical, annotation and hemispheres stack"
   ]
  },
  {
   "cell_type": "code",
   "execution_count": null,
   "metadata": {},
   "outputs": [],
   "source": [
    "from matplotlib import pyplot as plt"
   ]
  },
  {
   "cell_type": "markdown",
   "metadata": {},
   "source": [
    "Anatomical reference:"
   ]
  },
  {
   "cell_type": "code",
   "execution_count": null,
   "metadata": {},
   "outputs": [],
   "source": [
    "space = bg_atlas._space\n",
    "stack = bg_atlas.reference\n",
    "\n",
    "f, axs = plt.subplots(1,3, figsize=(12, 3))\n",
    "for i, (plane, labels) in enumerate(zip(space.sections, space.axis_labels)):\n",
    "    axs[i].imshow(stack.mean(i), cmap=\"gray\")\n",
    "    axs[i].set_title(f\"{plane.capitalize()} view\")\n",
    "    axs[i].set_ylabel(labels[0])\n",
    "    axs[i].set_xlabel(labels[1])"
   ]
  },
  {
   "cell_type": "markdown",
   "metadata": {},
   "source": [
    "Annotations stack:"
   ]
  },
  {
   "cell_type": "code",
   "execution_count": null,
   "metadata": {},
   "outputs": [],
   "source": [
    "space = bg_atlas._space\n",
    "stack = bg_atlas.annotation\n",
    "\n",
    "f, axs = plt.subplots(1,3, figsize=(12, 3))\n",
    "for i, (plane, labels) in enumerate(zip(space.sections, space.axis_labels)):\n",
    "    axs[i].imshow(stack.max(i), cmap=\"gray\")\n",
    "    axs[i].set_title(f\"{plane.capitalize()} view\")\n",
    "    axs[i].set_ylabel(labels[0])\n",
    "    axs[i].set_xlabel(labels[1])"
   ]
  },
  {
   "cell_type": "code",
   "execution_count": null,
   "metadata": {},
   "outputs": [],
   "source": [
    "space = bg_atlas._space\n",
    "stack = bg_atlas.hemispheres\n",
    "\n",
    "f, axs = plt.subplots(1,3, figsize=(12, 3))\n",
    "for i, (plane, labels) in enumerate(zip(space.sections, space.axis_labels)):\n",
    "    axs[i].imshow(stack.max(i), cmap=\"gray\")\n",
    "    axs[i].set_title(f\"{plane.capitalize()} view\")\n",
    "    axs[i].set_ylabel(labels[0])\n",
    "    axs[i].set_xlabel(labels[1])"
   ]
  },
  {
   "cell_type": "markdown",
   "metadata": {},
   "source": [
    "### 1.2 Regions hierarchy"
   ]
  },
  {
   "cell_type": "code",
   "execution_count": null,
   "metadata": {},
   "outputs": [],
   "source": [
    "bg_atlas.structures"
   ]
  },
  {
   "cell_type": "markdown",
   "metadata": {},
   "source": [
    "### 1.3 Regions meshes"
   ]
  },
  {
   "cell_type": "code",
   "execution_count": null,
   "metadata": {},
   "outputs": [],
   "source": []
  },
  {
   "cell_type": "markdown",
   "metadata": {},
   "source": [
    "## 2. `BrainGlobe` atlas methods"
   ]
  },
  {
   "cell_type": "markdown",
   "metadata": {},
   "source": [
    "## 2.0 region, hemispheres from coordinate"
   ]
  },
  {
   "cell_type": "code",
   "execution_count": null,
   "metadata": {},
   "outputs": [],
   "source": []
  }
 ],
 "metadata": {
  "kernelspec": {
   "display_name": "amap_env",
   "language": "python",
   "name": "amap_env"
  },
  "language_info": {
   "codemirror_mode": {
    "name": "ipython",
    "version": 3
   },
   "file_extension": ".py",
   "mimetype": "text/x-python",
   "name": "python",
   "nbconvert_exporter": "python",
   "pygments_lexer": "ipython3",
   "version": "3.7.7"
  }
 },
 "nbformat": 4,
 "nbformat_minor": 2
}
