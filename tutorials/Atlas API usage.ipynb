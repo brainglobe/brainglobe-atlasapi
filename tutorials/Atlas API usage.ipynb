{
 "cells": [
  {
   "cell_type": "markdown",
   "metadata": {},
   "source": [
    "# Introduction to the `BrainGlobeAtlas` class"
   ]
  },
  {
   "cell_type": "markdown",
   "metadata": {},
   "source": [
    "## 0. Creating a `BrainGlobeAtlas` object and list availabe options"
   ]
  },
  {
   "cell_type": "markdown",
   "metadata": {},
   "source": [
    "To instantiate a `BrainGlobeAtlas` object, we need to instantiate it with the atlas name. The first time we use it, a version of this atlas files will be downloaded from the [remote GIN repository](http://gin.g-node.org/brainglobe/atlases) and stored on your local machine (by default, in .../Users/username/.brainglobe):"
   ]
  },
  {
   "cell_type": "code",
   "execution_count": null,
   "metadata": {},
   "outputs": [],
   "source": [
    "from bg_atlasapi import BrainGlobeAtlas\n",
    "from pprint import pprint\n",
    "\n",
    "bg_atlas = BrainGlobeAtlas(\"allen_mouse_100um\", check_latest=False)"
   ]
  },
  {
   "cell_type": "markdown",
   "metadata": {},
   "source": [
    "To know what atlases are available through BrainGlobe, we can use the `show_atlases` function (we need to be online):"
   ]
  },
  {
   "cell_type": "code",
   "execution_count": null,
   "metadata": {},
   "outputs": [],
   "source": [
    "from bg_atlasapi import show_atlases\n",
    "show_atlases()"
   ]
  },
  {
   "cell_type": "markdown",
   "metadata": {},
   "source": [
    "## 1. Using a `BrainGlobe` atlas"
   ]
  },
  {
   "cell_type": "markdown",
   "metadata": {},
   "source": [
    "A BrainGlobe atlas is a convenient API for interacting with an anatomical atlas. BrainGlobe atlases contain:\n",
    " * Metadata\n",
    " * The reference anatomical stack used for the registration itself\n",
    " * Region annotation stack (the segmented atlas image that occupies the same space as the reference stack)\n",
    " * Hemisphere annotation stack which denotes left and right\n",
    " * Description of the region hierarchy\n",
    " * Meshes for the regions"
   ]
  },
  {
   "cell_type": "markdown",
   "metadata": {},
   "source": [
    "### 1.0 Metadata"
   ]
  },
  {
   "cell_type": "markdown",
   "metadata": {},
   "source": [
    "All atlases have a standard set of medatata describing their source, species, resolution, etc:"
   ]
  },
  {
   "cell_type": "code",
   "execution_count": null,
   "metadata": {},
   "outputs": [],
   "source": [
    "bg_atlas.metadata"
   ]
  },
  {
   "cell_type": "markdown",
   "metadata": {},
   "source": [
    "### 1.1 Anatomical, annotation and hemispheres stack"
   ]
  },
  {
   "cell_type": "code",
   "execution_count": null,
   "metadata": {},
   "outputs": [],
   "source": [
    "from matplotlib import pyplot as plt"
   ]
  },
  {
   "cell_type": "markdown",
   "metadata": {},
   "source": [
    "Anatomical reference:"
   ]
  },
  {
   "cell_type": "code",
   "execution_count": null,
   "metadata": {},
   "outputs": [],
   "source": [
    "space = bg_atlas.space\n",
    "stack = bg_atlas.reference\n",
    "\n",
    "f, axs = plt.subplots(1,3, figsize=(12, 3))\n",
    "for i, (plane, labels) in enumerate(zip(space.sections, space.axis_labels)):\n",
    "    mid_index = stack.shape[i]//2\n",
    "    axs[i].imshow(np.moveaxis(stack,i,0)[mid_index,:,:], cmap=\"gray\",clim=(0,250))\n",
    "    axs[i].set_title(f\"{plane.capitalize()} view\")\n",
    "    axs[i].set_ylabel(labels[0])\n",
    "    axs[i].set_xlabel(labels[1])"
   ]
  },
  {
   "cell_type": "markdown",
   "metadata": {},
   "source": [
    "Annotations stack:"
   ]
  },
  {
   "cell_type": "code",
   "execution_count": null,
   "metadata": {},
   "outputs": [],
   "source": [
    "space = bg_atlas.space\n",
    "stack = bg_atlas.annotation\n",
    "\n",
    "f, axs = plt.subplots(1,3, figsize=(12, 3))\n",
    "for i, (plane, labels) in enumerate(zip(space.sections, space.axis_labels)):\n",
    "    mid_index = stack.shape[i]//2\n",
    "    axs[i].imshow(np.moveaxis(stack,i,0)[mid_index,:,:], cmap=\"gray\",clim=(0,1250))\n",
    "    axs[i].set_title(f\"{plane.capitalize()} view\")\n",
    "    axs[i].set_ylabel(labels[0])\n",
    "    axs[i].set_xlabel(labels[1])\n"
   ]
  },
  {
   "cell_type": "code",
   "execution_count": null,
   "metadata": {},
   "outputs": [],
   "source": [
    "space = bg_atlas.space\n",
    "stack = bg_atlas.hemispheres\n",
    "\n",
    "f, axs = plt.subplots(1,3, figsize=(12, 3))\n",
    "for i, (plane, labels) in enumerate(zip(space.sections, space.axis_labels)):\n",
    "    axs[i].imshow(stack.max(i), cmap=\"gray\")\n",
    "    axs[i].set_title(f\"{plane.capitalize()} view\")\n",
    "    axs[i].set_ylabel(labels[0])\n",
    "    axs[i].set_xlabel(labels[1])"
   ]
  },
  {
   "cell_type": "markdown",
   "metadata": {},
   "source": [
    "### 1.2 Regions hierarchy"
   ]
  },
  {
   "cell_type": "markdown",
   "metadata": {},
   "source": [
    "The atlas comes with the description of a hierarchy of brain structures. To have an overview:"
   ]
  },
  {
   "cell_type": "markdown",
   "metadata": {},
   "source": [
    "bg_atlas.structures"
   ]
  },
  {
   "cell_type": "markdown",
   "metadata": {},
   "source": [
    "The structures attribute is a custom dictionary that can be queried by region number or acronym, and contains all the information for a given structure:"
   ]
  },
  {
   "cell_type": "code",
   "execution_count": null,
   "metadata": {},
   "outputs": [],
   "source": [
    "pprint(bg_atlas.structures[\"root\"])"
   ]
  },
  {
   "cell_type": "markdown",
   "metadata": {},
   "source": [
    "In particular, the `structure_id_path` key contains a list description of the path in the hierarchy up to a particular region, and can be used for queries on the hierarchy."
   ]
  },
  {
   "cell_type": "code",
   "execution_count": null,
   "metadata": {},
   "outputs": [],
   "source": [
    "bg_atlas.structures[\"CH\"][\"structure_id_path\"]"
   ]
  },
  {
   "cell_type": "markdown",
   "metadata": {},
   "source": [
    "We can use the `bg_atlas.get_structure_descendants` and `bg_atlas.get_structure_ancestors` methods to explore the hierarchy:"
   ]
  },
  {
   "cell_type": "code",
   "execution_count": null,
   "metadata": {},
   "outputs": [],
   "source": [
    "bg_atlas.get_structure_descendants(\"VISC\")"
   ]
  },
  {
   "cell_type": "code",
   "execution_count": null,
   "metadata": {},
   "outputs": [],
   "source": [
    "bg_atlas.get_structure_ancestors(\"VISC6a\")"
   ]
  },
  {
   "cell_type": "markdown",
   "metadata": {},
   "source": [
    "---\n",
    "**NOTE**: \n",
    "the levels of the hierarchy depends on the underlying atlas, so we cannot ensure the goodness and consistency of their hierarchy three.\n",
    "---"
   ]
  },
  {
   "cell_type": "markdown",
   "metadata": {},
   "source": [
    "There is an higher level description of the structures hierarchy that is built using the [treelib](https://treelib.readthedocs.io/en/latest/) package, and is available as: "
   ]
  },
  {
   "cell_type": "code",
   "execution_count": null,
   "metadata": {},
   "outputs": [],
   "source": [
    "bg_atlas.structures.tree"
   ]
  },
  {
   "cell_type": "markdown",
   "metadata": {},
   "source": [
    "For most applications though the methods described above and the list path of each region should be enough to query the hierarchy without additional layers of complication."
   ]
  },
  {
   "cell_type": "markdown",
   "metadata": {},
   "source": [
    "### 1.3 Region masks"
   ]
  },
  {
   "cell_type": "markdown",
   "metadata": {},
   "source": [
    "Sometimes, we might want to have the mask for a region that is not labelled in the annotation stack as all its voxels have the number of some lower level parcellation in the hierarchy (concretely, if the brain is divided in hindbrain, midbrain, and forebrain, `annotation == root_id` will be all False).\n",
    "\n",
    "To get the mask for a region, simply:"
   ]
  },
  {
   "cell_type": "code",
   "execution_count": null,
   "metadata": {},
   "outputs": [],
   "source": [
    "stack = bg_atlas.get_structure_mask(997)"
   ]
  },
  {
   "cell_type": "code",
   "execution_count": null,
   "metadata": {},
   "outputs": [],
   "source": [
    "space = bg_atlas.space\n",
    "\n",
    "f, axs = plt.subplots(1,3, figsize=(12, 3))\n",
    "for i, (plane, labels) in enumerate(zip(space.sections, space.axis_labels)):\n",
    "    axs[i].imshow(stack.max(i), cmap=\"gray\")\n",
    "    axs[i].set_title(f\"{plane.capitalize()} view\")\n",
    "    axs[i].set_ylabel(labels[0])\n",
    "    axs[i].set_xlabel(labels[1])\n",
    "\n"
   ]
  },
  {
   "cell_type": "markdown",
   "metadata": {},
   "source": [
    "### 1.3 Regions meshes"
   ]
  },
  {
   "cell_type": "markdown",
   "metadata": {},
   "source": [
    "If we need to access the structure meshes, we can either query for the file (e.g., if we need to load the file through some library like `vedo`):"
   ]
  },
  {
   "cell_type": "code",
   "execution_count": null,
   "metadata": {},
   "outputs": [],
   "source": [
    "bg_atlas.meshfile_from_structure(\"CH\")"
   ]
  },
  {
   "cell_type": "markdown",
   "metadata": {},
   "source": [
    "Or directly obtain the mesh, as a mesh object of the `meshio` library:"
   ]
  },
  {
   "cell_type": "code",
   "execution_count": null,
   "metadata": {},
   "outputs": [],
   "source": [
    "bg_atlas.mesh_from_structure(\"CH\")"
   ]
  },
  {
   "cell_type": "markdown",
   "metadata": {},
   "source": [
    "## 2 Query the `BrainGlobeAtlas`"
   ]
  },
  {
   "cell_type": "markdown",
   "metadata": {},
   "source": [
    "### 2.0 Query for structures:"
   ]
  },
  {
   "cell_type": "markdown",
   "metadata": {},
   "source": [
    "A very convenient feature of the `BrainGlobeAtlas` API is the simplicity of querying for the identity of the structure or the hemisphere at a given location, either from stack indexes or space coordinates, and even cutting the hierarchy at some higher level:"
   ]
  },
  {
   "cell_type": "code",
   "execution_count": null,
   "metadata": {},
   "outputs": [],
   "source": [
    "# Ask for identity of some indexes in the stack:\n",
    "print(\"By index:\", bg_atlas.structure_from_coords((50, 40, 30), \n",
    "                                                  as_acronym=True))\n",
    "\n",
    "# Now give coordinates in microns\n",
    "print(\"By coordinates:\", bg_atlas.structure_from_coords((5000, 4000, 3000), \n",
    "                                                        as_acronym=True, \n",
    "                                                        microns=True))\n",
    "\n",
    "# Now cut hierarchy at some level\n",
    "print(\"Higher hierarchy level:\", bg_atlas.structure_from_coords((5000, 4000, 3000), \n",
    "                                                                 as_acronym=True, \n",
    "                                                                 microns=True, \n",
    "                                                                 hierarchy_lev=2))"
   ]
  },
  {
   "cell_type": "markdown",
   "metadata": {},
   "source": [
    "### 2.1 Query for hemispheres"
   ]
  },
  {
   "cell_type": "markdown",
   "metadata": {},
   "source": [
    "A very similar method can be used for hemispheres. 0 correspond to outside the brain, a,d 1 and 2 to left and right hemispheres - but we can just ask for the side name instead of the number:"
   ]
  },
  {
   "cell_type": "code",
   "execution_count": null,
   "metadata": {},
   "outputs": [],
   "source": [
    "# Ask for identity of some indexes in the stack:\n",
    "print(\"By index:\", bg_atlas.hemisphere_from_coords((50, 40, 30)))\n",
    "\n",
    "# Now give coordinates in microns\n",
    "print(\"By coordinates:\", bg_atlas.hemisphere_from_coords((5000, 4000, 3000), microns=True))\n",
    "\n",
    "# Now print side string\n",
    "print(\"By :\", bg_atlas.hemisphere_from_coords((5000, 4000, 3000), microns=True))"
   ]
  },
  {
   "cell_type": "code",
   "execution_count": null,
   "metadata": {},
   "outputs": [],
   "source": []
  }
 ],
 "metadata": {
  "kernelspec": {
   "display_name": "Python 3 (ipykernel)",
   "language": "python",
   "name": "python3"
  },
  "language_info": {
   "codemirror_mode": {
    "name": "ipython",
    "version": 3
   },
   "file_extension": ".py",
   "mimetype": "text/x-python",
   "name": "python",
   "nbconvert_exporter": "python",
   "pygments_lexer": "ipython3",
   "version": "3.9.7"
  }
 },
 "nbformat": 4,
 "nbformat_minor": 4
}
