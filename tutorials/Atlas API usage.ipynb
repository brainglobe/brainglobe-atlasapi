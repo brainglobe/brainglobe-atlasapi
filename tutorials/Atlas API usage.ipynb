{
 "cells": [
  {
   "cell_type": "code",
   "execution_count": 8,
   "metadata": {},
   "outputs": [],
   "source": [
    "%load_ext autoreload"
   ]
  },
  {
   "cell_type": "markdown",
   "metadata": {},
   "source": [
    "# Introduction to the `BrainGlobeAtlas` class"
   ]
  },
  {
   "cell_type": "markdown",
   "metadata": {},
   "source": [
    "## 0. Creating a `BrainGlobeAtlas` object and list availabe options"
   ]
  },
  {
   "cell_type": "markdown",
   "metadata": {},
   "source": [
    "To instantiate a `BrainGlobeAtlas` object, we need to instantiate it with the atlas name. The first time we use it, a version of this atlas files will be downloaded from the [remote GIN repository](http://gin.g-node.org/brainglobe/atlases) and stored on your local machine (by default, in .../Users/username/.brainglobe):"
   ]
  },
  {
   "cell_type": "code",
   "execution_count": 21,
   "metadata": {},
   "outputs": [
    {
     "name": "stdout",
     "output_type": "stream",
     "text": [
      "example mouse atlas (res. 100um)\n",
      "From: http://www.brain-map.org.com (Wang et al 2020, https://doi.org/10.1016/j.cell.2020.04.007 )\n"
     ]
    }
   ],
   "source": [
    "%autoreload\n",
    "from bg_atlasapi import BrainGlobeAtlas\n",
    "\n",
    "bg_atlas = BrainGlobeAtlas(\"example_mouse_100um\", check_latest=False)"
   ]
  },
  {
   "cell_type": "markdown",
   "metadata": {},
   "source": [
    "To know what atlases are available through BrainGlobe, we can use the `show_atlases` function (we need to be online):"
   ]
  },
  {
   "cell_type": "code",
   "execution_count": 7,
   "metadata": {},
   "outputs": [],
   "source": [
    "from bg_atlasapi import show_atlases"
   ]
  },
  {
   "cell_type": "code",
   "execution_count": 8,
   "metadata": {},
   "outputs": [
    {
     "data": {
      "text/html": [
       "<pre style=\"white-space:pre;overflow-x:auto;line-height:normal;font-family:Menlo,'DejaVu Sans Mono',consolas,'Courier New',monospace\"><span style=\"font-style: italic\">                                                                                  </span>\n",
       "<span style=\"font-style: italic\">                                                                                  </span>\n",
       "<span style=\"font-style: italic\">                                Brainglobe Atlases                                </span>\n",
       "╭──────────────────────────────────┬────────────┬───────────────┬────────────────╮\n",
       "│<span style=\"color: #008000; font-weight: bold\"> Name                             </span>│<span style=\"color: #008000; font-weight: bold\"> Downloaded </span>│<span style=\"color: #008000; font-weight: bold\"> Local version </span>│<span style=\"color: #008000; font-weight: bold\"> Latest version </span>│\n",
       "├──────────────────────────────────┼────────────┼───────────────┼────────────────┤\n",
       "│ <span style=\"font-weight: bold\">example_mouse_100um</span>              │     <span style=\"color: #008000\">✔</span>      │      0.3      │      0.3       │\n",
       "│ <span style=\"font-weight: bold\">mpin_zfish_1um</span>                   │     <span style=\"color: #008000\">✔</span>      │      0.3      │      0.3       │\n",
       "│ <span style=\"font-weight: bold\">allen_mouse_10um</span>                 │    <span style=\"color: #800000\">---</span>     │      <span style=\"color: #800000\">---</span>      │      0.3       │\n",
       "│ <span style=\"font-weight: bold\">allen_mouse_25um</span>                 │    <span style=\"color: #800000\">---</span>     │      <span style=\"color: #800000\">---</span>      │      0.3       │\n",
       "│ <span style=\"font-weight: bold\">allen_mouse_50um</span>                 │    <span style=\"color: #800000\">---</span>     │      <span style=\"color: #800000\">---</span>      │      0.3       │\n",
       "│ <span style=\"font-weight: bold\">allen_human_500um</span>                │    <span style=\"color: #800000\">---</span>     │      <span style=\"color: #800000\">---</span>      │      0.1       │\n",
       "│ <span style=\"font-weight: bold\">kim_unified_25um</span>                 │    <span style=\"color: #800000\">---</span>     │      <span style=\"color: #800000\">---</span>      │      0.1       │\n",
       "╰──────────────────────────────────┴────────────┴───────────────┴────────────────╯\n",
       "</pre>\n"
      ],
      "text/plain": [
       "<rich.jupyter.JupyterRenderable at 0x7fbd10018510>"
      ]
     },
     "metadata": {},
     "output_type": "display_data"
    }
   ],
   "source": [
    "show_atlases()"
   ]
  },
  {
   "cell_type": "markdown",
   "metadata": {},
   "source": [
    "## 1. Using a `BrainGlobe` atlas"
   ]
  },
  {
   "cell_type": "markdown",
   "metadata": {},
   "source": [
    "A BrainGlobe atlas is a convenient API for interacting with an anatomical atlas. BrainGlobe atlases contain:\n",
    " * Metadata\n",
    " * Reference anatomical stack\n",
    " * Region annotation stack\n",
    " * Hemisphere annotation stack\n",
    " * Description of the region hierarchy\n",
    " * Meshes for the regions"
   ]
  },
  {
   "cell_type": "markdown",
   "metadata": {},
   "source": [
    "### 1.0 Metadata"
   ]
  },
  {
   "cell_type": "code",
   "execution_count": 22,
   "metadata": {},
   "outputs": [
    {
     "data": {
      "text/plain": [
       "{'name': 'example_mouse',\n",
       " 'citation': 'Wang et al 2020, https://doi.org/10.1016/j.cell.2020.04.007',\n",
       " 'atlas_link': 'http://www.brain-map.org.com',\n",
       " 'species': 'Mus musculus',\n",
       " 'symmetric': True,\n",
       " 'resolution': [100.0, 100.0, 100.0],\n",
       " 'orientation': 'asl',\n",
       " 'version': '0.3',\n",
       " 'shape': [132, 80, 114],\n",
       " 'trasform_to_bg': [[1.0, 0.0, 0.0, 0.0],\n",
       "  [0.0, 1.0, 0.0, 0.0],\n",
       "  [0.0, 0.0, 1.0, 0.0],\n",
       "  [0.0, 0.0, 0.0, 1.0]]}"
      ]
     },
     "execution_count": 22,
     "metadata": {},
     "output_type": "execute_result"
    }
   ],
   "source": [
    "bg_atlas.metadata"
   ]
  },
  {
   "cell_type": "markdown",
   "metadata": {},
   "source": [
    "### 1.1 Anatomical stack"
   ]
  },
  {
   "cell_type": "code",
   "execution_count": null,
   "metadata": {},
   "outputs": [],
   "source": []
  }
 ],
 "metadata": {
  "kernelspec": {
   "display_name": "amap_env",
   "language": "python",
   "name": "amap_env"
  },
  "language_info": {
   "codemirror_mode": {
    "name": "ipython",
    "version": 3
   },
   "file_extension": ".py",
   "mimetype": "text/x-python",
   "name": "python",
   "nbconvert_exporter": "python",
   "pygments_lexer": "ipython3",
   "version": "3.7.7"
  }
 },
 "nbformat": 4,
 "nbformat_minor": 2
}
